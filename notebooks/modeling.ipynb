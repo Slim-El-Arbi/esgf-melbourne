{
 "cells": [
  {
   "cell_type": "code",
   "metadata": {
    "collapsed": true,
    "pycharm": {
     "name": "#%%\n"
    }
   },
   "source": [
    "import numpy as np\n",
    "from esgflib.data.datasets import get_melbourne_data, split_train_test_data\n",
    "from matplotlib import pyplot as plt\n",
    "from esgflib.features.features import create_training_points"
   ],
   "execution_count": 69,
   "outputs": []
  },
  {
   "cell_type": "code",
   "execution_count": 205,
   "outputs": [],
   "source": [
    "# Get the data\n",
    "melbourne_data = get_melbourne_data()"
   ],
   "metadata": {
    "collapsed": false,
    "pycharm": {
     "name": "#%%\n"
    }
   }
  },
  {
   "cell_type": "code",
   "execution_count": 206,
   "outputs": [],
   "source": [
    "# Date d'évaluation\n",
    "t = \"1987\"\n",
    "\n",
    "# Split train and test data\n",
    "train_data, test_data = split_train_test_data(melbourne_data, split_year=t)\n",
    "\n",
    "# Index\n",
    "train_data.set_index('Date', inplace=True)\n",
    "test_data.set_index('Date', inplace=True)"
   ],
   "metadata": {
    "collapsed": false,
    "pycharm": {
     "name": "#%%\n"
    }
   }
  },
  {
   "cell_type": "code",
   "execution_count": 207,
   "outputs": [],
   "source": [
    "# Create training/test points\n",
    "history_days = 64\n",
    "horizon_days = 32\n",
    "X_train, Y_train = create_training_points(train_data, history_days=history_days, horizon_days=horizon_days)\n",
    "X_test, Y_test = create_training_points(test_data, history_days=history_days, horizon_days=horizon_days)"
   ],
   "metadata": {
    "collapsed": false,
    "pycharm": {
     "name": "#%%\n"
    }
   }
  },
  {
   "cell_type": "code",
   "execution_count": 194,
   "outputs": [],
   "source": [
    "# Create the model\n",
    "from keras.layers import Input, LSTM, Dense\n",
    "from keras.models import Model\n",
    "\n",
    "# Input. Got (N, 64, 1).\n",
    "model_input = Input(shape=(history_days, 1), name='x', dtype='float32')\n",
    "\n",
    "# Embedding. Got (N, 8).\n",
    "z = LSTM(8, activation='relu')(model_input)\n",
    "\n",
    "# Dense. Got (N, 365).\n",
    "y = Dense(horizon_days, activation='linear')(z)\n",
    "\n",
    "# Keras model\n",
    "model_keras = Model(inputs=model_input, outputs=y)"
   ],
   "metadata": {
    "collapsed": false,
    "pycharm": {
     "name": "#%%\n"
    }
   }
  },
  {
   "cell_type": "code",
   "execution_count": 196,
   "outputs": [],
   "source": [
    "# Compile model\n",
    "model_keras.compile(optimizer='adam', loss='mse')"
   ],
   "metadata": {
    "collapsed": false,
    "pycharm": {
     "name": "#%%\n"
    }
   }
  },
  {
   "cell_type": "code",
   "execution_count": 197,
   "outputs": [
    {
     "name": "stdout",
     "output_type": "stream",
     "text": [
      "Epoch 1/32\n",
      "57/57 [==============================] - 1s 9ms/step - loss: 132.0777\n",
      "Epoch 2/32\n",
      "57/57 [==============================] - 1s 10ms/step - loss: 131.6955\n",
      "Epoch 3/32\n",
      "57/57 [==============================] - 1s 9ms/step - loss: 123.5275\n",
      "Epoch 4/32\n",
      "57/57 [==============================] - 1s 10ms/step - loss: 119.5799\n",
      "Epoch 5/32\n",
      "57/57 [==============================] - 1s 10ms/step - loss: 114.6476\n",
      "Epoch 6/32\n",
      "57/57 [==============================] - 1s 9ms/step - loss: 105.3394\n",
      "Epoch 7/32\n",
      "57/57 [==============================] - 1s 9ms/step - loss: 83.4904\n",
      "Epoch 8/32\n",
      "57/57 [==============================] - 1s 9ms/step - loss: 53.6148\n",
      "Epoch 9/32\n",
      "57/57 [==============================] - 1s 9ms/step - loss: 26.8524\n",
      "Epoch 10/32\n",
      "57/57 [==============================] - 1s 9ms/step - loss: 19.2041\n",
      "Epoch 11/32\n",
      "57/57 [==============================] - 1s 9ms/step - loss: 15.7167\n",
      "Epoch 12/32\n",
      "57/57 [==============================] - 1s 9ms/step - loss: 13.3682\n",
      "Epoch 13/32\n",
      "57/57 [==============================] - 1s 9ms/step - loss: 11.9732\n",
      "Epoch 14/32\n",
      "57/57 [==============================] - 1s 9ms/step - loss: 11.2597\n",
      "Epoch 15/32\n",
      "57/57 [==============================] - 1s 9ms/step - loss: 10.7211\n",
      "Epoch 16/32\n",
      "57/57 [==============================] - 1s 9ms/step - loss: 10.4361\n",
      "Epoch 17/32\n",
      "57/57 [==============================] - 1s 9ms/step - loss: 10.1588\n",
      "Epoch 18/32\n",
      "57/57 [==============================] - 1s 9ms/step - loss: 9.9545\n",
      "Epoch 19/32\n",
      "57/57 [==============================] - 1s 9ms/step - loss: 9.8324\n",
      "Epoch 20/32\n",
      "57/57 [==============================] - 1s 9ms/step - loss: 9.7576\n",
      "Epoch 21/32\n",
      "57/57 [==============================] - 1s 9ms/step - loss: 9.7224\n",
      "Epoch 22/32\n",
      "57/57 [==============================] - 1s 10ms/step - loss: 9.5716\n",
      "Epoch 23/32\n",
      "57/57 [==============================] - 1s 12ms/step - loss: 9.4906\n",
      "Epoch 24/32\n",
      "57/57 [==============================] - 1s 11ms/step - loss: 9.4920\n",
      "Epoch 25/32\n",
      "57/57 [==============================] - 1s 11ms/step - loss: 9.4704\n",
      "Epoch 26/32\n",
      "57/57 [==============================] - 1s 11ms/step - loss: 9.3643\n",
      "Epoch 27/32\n",
      "57/57 [==============================] - 1s 11ms/step - loss: 9.3167\n",
      "Epoch 28/32\n",
      "57/57 [==============================] - 1s 11ms/step - loss: 9.3317\n",
      "Epoch 29/32\n",
      "57/57 [==============================] - 1s 12ms/step - loss: 9.3391\n",
      "Epoch 30/32\n",
      "57/57 [==============================] - 1s 11ms/step - loss: 9.3606\n",
      "Epoch 31/32\n",
      "57/57 [==============================] - 1s 11ms/step - loss: 9.3165\n",
      "Epoch 32/32\n",
      "57/57 [==============================] - 1s 12ms/step - loss: 9.2365\n"
     ]
    },
    {
     "data": {
      "text/plain": "<keras.callbacks.History at 0x25ff64c22e0>"
     },
     "execution_count": 197,
     "metadata": {},
     "output_type": "execute_result"
    }
   ],
   "source": [
    "# Train the model\n",
    "model_keras.fit(X_train, Y_train, epochs=32, batch_size=32, verbose=1)"
   ],
   "metadata": {
    "collapsed": false,
    "pycharm": {
     "name": "#%%\n"
    }
   }
  },
  {
   "cell_type": "code",
   "execution_count": 198,
   "outputs": [],
   "source": [
    "y_pred = model_keras.predict(X_train)"
   ],
   "metadata": {
    "collapsed": false,
    "pycharm": {
     "name": "#%%\n"
    }
   }
  },
  {
   "cell_type": "code",
   "execution_count": 204,
   "outputs": [
    {
     "data": {
      "text/plain": "[<matplotlib.lines.Line2D at 0x25ff9fd32e0>]"
     },
     "execution_count": 204,
     "metadata": {},
     "output_type": "execute_result"
    },
    {
     "data": {
      "text/plain": "<Figure size 432x288 with 1 Axes>",
      "image/png": "[encoded data removed]"
     },
     "metadata": {
      "needs_background": "light"
     },
     "output_type": "display_data"
    }
   ],
   "source": [
    "plt.plot(y_pred[0])\n",
    "plt.plot(Y_train[0], color=\"blue\")"
   ],
   "metadata": {
    "collapsed": false,
    "pycharm": {
     "name": "#%%\n"
    }
   }
  }
 ],
 "metadata": {
  "kernelspec": {
   "display_name": "Python 3",
   "language": "python",
   "name": "python3"
  },
  "language_info": {
   "codemirror_mode": {
    "name": "ipython",
    "version": 2
   },
   "file_extension": ".py",
   "mimetype": "text/x-python",
   "name": "python",
   "nbconvert_exporter": "python",
   "pygments_lexer": "ipython2",
   "version": "2.7.6"
  }
 },
 "nbformat": 4,
 "nbformat_minor": 0
}